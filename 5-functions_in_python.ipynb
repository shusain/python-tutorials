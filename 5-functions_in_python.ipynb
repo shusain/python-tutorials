{
 "cells": [
  {
   "cell_type": "markdown",
   "id": "72b9ed23",
   "metadata": {},
   "source": [
    "# Functions\n",
    "    \n",
    "In this section, we'll explore functions in Python. Functions are reusable pieces of code that perform a specific task. They help in making your code more modular, organized, and manageable.\n"
   ]
  },
  {
   "cell_type": "markdown",
   "id": "feb8366f",
   "metadata": {},
   "source": [
    "## Defining a Function\n",
    "\n",
    "To define a function in Python, you use the `def` keyword followed by the function name and parentheses `()` which may include parameters. The code block within every function starts with a colon `:` and is indented.\n"
   ]
  },
  {
   "cell_type": "code",
   "execution_count": null,
   "id": "89a5580d",
   "metadata": {},
   "outputs": [],
   "source": [
    "# Example of a simple function\n",
    "def greet():\n",
    "    print(\"Hello, Python!\")\n",
    "\n",
    "# Calling the function\n",
    "greet()\n"
   ]
  },
  {
   "cell_type": "markdown",
   "id": "637bd48a",
   "metadata": {},
   "source": [
    "## Parameters and Arguments\n",
    "\n",
    "Parameters are variables that are passed into a function. When a function is called, the values you pass into the function are called arguments.\n"
   ]
  },
  {
   "cell_type": "code",
   "execution_count": null,
   "id": "529c1ffe",
   "metadata": {},
   "outputs": [],
   "source": [
    "# Function with parameters\n",
    "def greet(name):\n",
    "    print(f\"Hello, {name}!\")\n",
    "\n",
    "# Calling the function with an argument\n",
    "greet(\"Alice\")\n"
   ]
  },
  {
   "cell_type": "markdown",
   "id": "dbcb51a6",
   "metadata": {},
   "source": [
    "## Return Values\n",
    "\n",
    "Functions can return values using the `return` statement. If there is no `return` statement, the function returns `None` by default.\n"
   ]
  },
  {
   "cell_type": "code",
   "execution_count": null,
   "id": "83958958",
   "metadata": {},
   "outputs": [],
   "source": [
    "# Function that returns a value\n",
    "def add(a, b):\n",
    "    return a + b\n",
    "\n",
    "# Using the function\n",
    "result = add(5, 3)\n",
    "print(result)\n"
   ]
  },
  {
   "cell_type": "markdown",
   "id": "399708e8",
   "metadata": {},
   "source": [
    "## Variable Scope\n",
    "\n",
    "Variables created inside a function are local to that function, and cannot be accessed outside of it. To use a variable outside of the function it was defined in, it must be returned using the `return` statement or defined as a global variable.\n"
   ]
  },
  {
   "cell_type": "code",
   "execution_count": null,
   "id": "e3414980",
   "metadata": {},
   "outputs": [],
   "source": [
    "# Global variable\n",
    "x = \"global x\"\n",
    "\n",
    "def test():\n",
    "    y = \"local y\"\n",
    "    print(y)\n",
    "    print(x)\n",
    "\n",
    "# Calling the function\n",
    "test()\n",
    "\n",
    "# Trying to print y outside of the function will raise an error\n",
    "# print(y)  # Uncommenting this line will raise an error\n"
   ]
  },
  {
   "cell_type": "markdown",
   "id": "02006df5",
   "metadata": {},
   "source": [
    "## Conclusion\n",
    "\n",
    "Functions are a key feature of Python that allow for code reuse, organization, and readability. By defining functions, you can execute complex operations more efficiently and with less code.\n"
   ]
  }
 ],
 "metadata": {
  "kernelspec": {
   "display_name": ".venv",
   "language": "python",
   "name": "python3"
  },
  "language_info": {
   "codemirror_mode": {
    "name": "ipython",
    "version": 3
   },
   "file_extension": ".py",
   "mimetype": "text/x-python",
   "name": "python",
   "nbconvert_exporter": "python",
   "pygments_lexer": "ipython3",
   "version": "3.10.9"
  }
 },
 "nbformat": 4,
 "nbformat_minor": 5
}
