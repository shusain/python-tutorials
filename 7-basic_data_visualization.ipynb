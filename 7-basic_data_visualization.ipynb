{
 "cells": [
  {
   "cell_type": "markdown",
   "id": "d984f145",
   "metadata": {},
   "source": [
    "# Basic Data Visualization\n",
    "    \n",
    "In this section, we'll get introduced to basic data visualization in Python using matplotlib and seaborn, two of the most popular libraries for creating a wide variety of static, animated, and interactive visualizations.\n"
   ]
  },
  {
   "cell_type": "markdown",
   "id": "9d80a037",
   "metadata": {},
   "source": [
    "## Introduction to Matplotlib\n",
    "\n",
    "Matplotlib is a plotting library for the Python programming language and its numerical mathematics extension, NumPy. It provides an object-oriented API for embedding plots into applications.  In order to use this lib we'll need to install it first as discussed in the previous section on libraries.\n"
   ]
  },
  {
   "cell_type": "code",
   "execution_count": null,
   "id": "c350c7e5",
   "metadata": {
    "vscode": {
     "languageId": "shellscript"
    }
   },
   "outputs": [],
   "source": [
    "pip install matplotlib"
   ]
  },
  {
   "cell_type": "code",
   "execution_count": null,
   "id": "80b55369",
   "metadata": {},
   "outputs": [],
   "source": [
    "# Example of plotting with matplotlib\n",
    "import matplotlib.pyplot as plt\n",
    "\n",
    "# Data\n",
    "x = [1, 2, 3, 4]\n",
    "y = [10, 20, 25, 30]\n",
    "\n",
    "# Create a figure and axis\n",
    "fig, ax = plt.subplots()\n",
    "\n",
    "# Plot data\n",
    "ax.plot(x, y)\n",
    "\n",
    "# Show the plot\n",
    "plt.show()\n"
   ]
  },
  {
   "cell_type": "markdown",
   "id": "4f8afbe3",
   "metadata": {},
   "source": [
    "## Introduction to Seaborn\n",
    "\n",
    "Seaborn is a Python visualization library based on matplotlib. It provides a high-level interface for drawing attractive and informative statistical graphics.  Similar to the above we'll need to first install the package into our virtual environment.\n"
   ]
  },
  {
   "cell_type": "code",
   "execution_count": null,
   "id": "e8f61d04",
   "metadata": {
    "vscode": {
     "languageId": "shellscript"
    }
   },
   "outputs": [],
   "source": [
    "pip install seaborn"
   ]
  },
  {
   "cell_type": "code",
   "execution_count": null,
   "id": "68587185",
   "metadata": {},
   "outputs": [],
   "source": [
    "# Example of plotting with seaborn\n",
    "import seaborn as sns\n",
    "\n",
    "# Load an example dataset\n",
    "tips = sns.load_dataset(\"tips\")\n",
    "\n",
    "# Create a visualization\n",
    "sns.scatterplot(x=\"total_bill\", y=\"tip\", data=tips)\n",
    "\n",
    "plt.show()\n"
   ]
  },
  {
   "cell_type": "markdown",
   "id": "cd16b687",
   "metadata": {},
   "source": [
    "## Conclusion\n",
    "\n",
    "Data visualization is a crucial part of data analysis, allowing for a visual representation of data to uncover patterns, trends, and correlations. By using libraries like matplotlib and seaborn, you can create a wide range of visualizations to better understand your data.\n"
   ]
  }
 ],
 "metadata": {
  "kernelspec": {
   "display_name": ".venv",
   "language": "python",
   "name": "python3"
  },
  "language_info": {
   "codemirror_mode": {
    "name": "ipython",
    "version": 3
   },
   "file_extension": ".py",
   "mimetype": "text/x-python",
   "name": "python",
   "nbconvert_exporter": "python",
   "pygments_lexer": "ipython3",
   "version": "3.10.9"
  }
 },
 "nbformat": 4,
 "nbformat_minor": 5
}
