{
 "cells": [
  {
   "cell_type": "markdown",
   "id": "482879d5",
   "metadata": {},
   "source": [
    "# Basics of Python Programming\n",
    "    \n",
    "This section introduces the fundamental concepts of programming in Python. We'll cover basic data types, variables, and operations, providing a foundation for more advanced topics in Python programming.\n"
   ]
  },
  {
   "cell_type": "markdown",
   "id": "9ab42ca8",
   "metadata": {},
   "source": [
    "## Data Types\n",
    "\n",
    "In Python, data can be of various types including integers, floats (decimal numbers), strings (text), and booleans (True/False). Understanding these basic data types is crucial for manipulating data in your programs.\n"
   ]
  },
  {
   "cell_type": "code",
   "execution_count": null,
   "id": "edd0ecda",
   "metadata": {},
   "outputs": [],
   "source": [
    "# Example of integer\n",
    "print(5)\n",
    "\n",
    "# Example of float\n",
    "print(3.14)\n",
    "\n",
    "# Example of string\n",
    "print(\"Hello, Python!\")\n",
    "\n",
    "# Example of boolean\n",
    "print(True)\n"
   ]
  },
  {
   "cell_type": "markdown",
   "id": "9f9c09e7",
   "metadata": {},
   "source": [
    "## Variables\n",
    "\n",
    "Variables are used to store information that can be referenced and manipulated in a program. They provide a way of labeling data with a descriptive name.\n"
   ]
  },
  {
   "cell_type": "code",
   "execution_count": null,
   "id": "848044db",
   "metadata": {},
   "outputs": [],
   "source": [
    "# Declaring a variable\n",
    "my_number = 10\n",
    "print(my_number)\n",
    "\n",
    "# Reassigning a variable\n",
    "my_number = 20\n",
    "print(my_number)\n",
    "\n",
    "# Using variables with strings\n",
    "greeting = \"Hello\"\n",
    "name = \"Alice\"\n",
    "message = greeting + \" \" + name + \"!\"\n",
    "print(message)\n"
   ]
  },
  {
   "cell_type": "markdown",
   "id": "543f8c07",
   "metadata": {},
   "source": [
    "## Basic Operations\n",
    "\n",
    "Python supports various types of operations, including arithmetic operations (like addition, subtraction) and string operations.\n"
   ]
  },
  {
   "cell_type": "code",
   "execution_count": null,
   "id": "98e05444",
   "metadata": {},
   "outputs": [],
   "source": [
    "# Arithmetic operations\n",
    "sum = 7 + 3\n",
    "difference = 7 - 3\n",
    "product = 7 * 3\n",
    "quotient = 7 / 3\n",
    "\n",
    "print(\"Sum:\", sum)\n",
    "print(\"Difference:\", difference)\n",
    "print(\"Product:\", product)\n",
    "print(\"Quotient:\", quotient)\n",
    "\n",
    "# String concatenation\n",
    "first_part = \"Hello\"\n",
    "second_part = \"World\"\n",
    "greeting = first_part + \" \" + second_part\n",
    "print(greeting)\n"
   ]
  }
 ],
 "metadata": {
  "kernelspec": {
   "display_name": ".venv",
   "language": "python",
   "name": "python3"
  },
  "language_info": {
   "codemirror_mode": {
    "name": "ipython",
    "version": 3
   },
   "file_extension": ".py",
   "mimetype": "text/x-python",
   "name": "python",
   "nbconvert_exporter": "python",
   "pygments_lexer": "ipython3",
   "version": "3.10.9"
  }
 },
 "nbformat": 4,
 "nbformat_minor": 5
}
