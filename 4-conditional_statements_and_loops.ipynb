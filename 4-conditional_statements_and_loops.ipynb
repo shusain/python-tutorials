{
 "cells": [
  {
   "cell_type": "markdown",
   "id": "e1b999b3",
   "metadata": {},
   "source": [
    "# Conditional Statements and Loops\n",
    "    \n",
    "In this section, we'll learn how to control the flow of your Python programs using conditional statements and loops. These constructs allow you to make decisions and execute code blocks multiple times based on certain conditions.\n"
   ]
  },
  {
   "cell_type": "markdown",
   "id": "942355bf",
   "metadata": {},
   "source": [
    "## If Statements\n",
    "\n",
    "`if` statements enable you to execute certain code only when a specific condition is true.\n"
   ]
  },
  {
   "cell_type": "code",
   "execution_count": null,
   "id": "c2925b4e",
   "metadata": {},
   "outputs": [],
   "source": [
    "# Example of if statement\n",
    "x = 10\n",
    "if x > 5:\n",
    "    print(\"x is greater than 5\")\n",
    "\n",
    "# If-else statement\n",
    "if x > 15:\n",
    "    print(\"x is greater than 15\")\n",
    "else:\n",
    "    print(\"x is not greater than 15\")\n",
    "\n",
    "# If-elif-else statement\n",
    "if x > 15:\n",
    "    print(\"x is greater than 15\")\n",
    "elif x == 10:\n",
    "    print(\"x is equal to 10\")\n",
    "else:\n",
    "    print(\"x is less than 15\")\n"
   ]
  },
  {
   "cell_type": "markdown",
   "id": "aa79a0ce",
   "metadata": {},
   "source": [
    "## For Loops\n",
    "\n",
    "`for` loops are used to iterate over a sequence (such as a list, tuple, dictionary, or string) and execute a block of code for each item in the sequence.\n"
   ]
  },
  {
   "cell_type": "code",
   "execution_count": null,
   "id": "469c9a8d",
   "metadata": {},
   "outputs": [],
   "source": [
    "# Example of for loop with a list\n",
    "numbers = [1, 2, 3, 4, 5]\n",
    "for number in numbers:\n",
    "    print(number)\n",
    "\n",
    "# Example of for loop with a string\n",
    "for char in \"Hello\":\n",
    "    print(char)\n",
    "\n",
    "# Using range() with for loops\n",
    "for i in range(5):  # Will print numbers 0 to 4\n",
    "    print(i)\n"
   ]
  },
  {
   "cell_type": "markdown",
   "id": "26d28940",
   "metadata": {},
   "source": [
    "## While Loops\n",
    "\n",
    "`while` loops repeatedly execute a block of code as long as a given condition is true.\n"
   ]
  },
  {
   "cell_type": "code",
   "execution_count": null,
   "id": "d855db43",
   "metadata": {},
   "outputs": [],
   "source": [
    "# Example of while loop\n",
    "count = 0\n",
    "while count < 5:\n",
    "    print(count)\n",
    "    count += 1  # Equivalent to count = count + 1\n"
   ]
  },
  {
   "cell_type": "markdown",
   "id": "23188075",
   "metadata": {},
   "source": [
    "## Loop Control Statements\n",
    "\n",
    "- `break` can be used to exit a loop.\n",
    "- `continue` skips the rest of the code inside a loop for the current iteration and goes to the next iteration.\n"
   ]
  },
  {
   "cell_type": "code",
   "execution_count": null,
   "id": "e586252d",
   "metadata": {},
   "outputs": [],
   "source": [
    "# Using break\n",
    "for number in range(10):\n",
    "    if number == 5:\n",
    "        break  # Exit the loop\n",
    "    print(number)\n",
    "\n",
    "# Using continue\n",
    "for number in range(10):\n",
    "    if number == 5:\n",
    "        continue  # Skip to the next iteration\n",
    "    print(number)\n"
   ]
  },
  {
   "cell_type": "markdown",
   "id": "fe682614",
   "metadata": {},
   "source": [
    "## Conclusion\n",
    "\n",
    "Conditional statements and loops are foundational concepts in Python that allow you to add logic and repetition to your programs. By mastering these constructs, you can write more dynamic and efficient code.\n"
   ]
  }
 ],
 "metadata": {
  "kernelspec": {
   "display_name": ".venv",
   "language": "python",
   "name": "python3"
  },
  "language_info": {
   "codemirror_mode": {
    "name": "ipython",
    "version": 3
   },
   "file_extension": ".py",
   "mimetype": "text/x-python",
   "name": "python",
   "nbconvert_exporter": "python",
   "pygments_lexer": "ipython3",
   "version": "3.10.9"
  }
 },
 "nbformat": 4,
 "nbformat_minor": 5
}
