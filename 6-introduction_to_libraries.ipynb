{
 "cells": [
  {
   "cell_type": "markdown",
   "id": "65e5428e",
   "metadata": {},
   "source": [
    "# Introduction to Libraries\n",
    "    \n",
    "In this section, we'll explore what libraries are in Python and how they can be used to extend the functionality of Python programs. Libraries are collections of modules that include functions, methods, and types that provide additional functionality beyond what is available in the standard Python library.\n"
   ]
  },
  {
   "cell_type": "markdown",
   "id": "2a42b238",
   "metadata": {},
   "source": [
    "## What is a Library?\n",
    "\n",
    "A library in Python contains reusable chunks of code known as modules. These can be imported into your programs to use the functions, methods, and types they provide.\n"
   ]
  },
  {
   "cell_type": "markdown",
   "id": "4f1ed9b6",
   "metadata": {},
   "source": [
    "## Using Libraries\n",
    "\n",
    "To use a library in Python, you first need to install it (if it's not part of the standard Python library) and then import it into your program.\n"
   ]
  },
  {
   "cell_type": "code",
   "execution_count": 1,
   "id": "1ffa0a2a",
   "metadata": {},
   "outputs": [
    {
     "name": "stdout",
     "output_type": "stream",
     "text": [
      "5.0\n"
     ]
    }
   ],
   "source": [
    "# Example of importing and using the math library\n",
    "import math\n",
    "\n",
    "# Using a function from the math library\n",
    "result = math.sqrt(25)\n",
    "print(result)\n"
   ]
  },
  {
   "cell_type": "markdown",
   "id": "e80f746b",
   "metadata": {},
   "source": [
    "## Popular Python Libraries\n",
    "\n",
    "- **NumPy:** Provides support for arrays, matrices, and high-level mathematical functions.\n",
    "- **Pandas:** Offers data structures and operations for manipulating numerical tables and time series.\n",
    "- **Matplotlib:** A plotting library for creating static, interactive, and animated visualizations in Python.\n",
    "- **SciPy:** Used for scientific and technical computing.\n",
    "- **Scikit-learn:** Features various algorithms for machine learning and data mining tasks.\n"
   ]
  },
  {
   "cell_type": "markdown",
   "id": "8ff082ed",
   "metadata": {},
   "source": [
    "## Installing Libraries\n",
    "\n",
    "Python libraries can be installed using pip, Python's package installer. For example, to install the requests library, you would use the following command in your terminal or command prompt:\n",
    "```bash\n",
    "pip install requests\n",
    "```\n"
   ]
  },
  {
   "cell_type": "markdown",
   "id": "e4738b60",
   "metadata": {},
   "source": [
    "## Conclusion\n",
    "\n",
    "Libraries extend the functionality of Python, allowing you to perform a wide range of tasks from data analysis to machine learning and web development. By leveraging libraries, you can save time and avoid 'reinventing the wheel' for common tasks.\n"
   ]
  }
 ],
 "metadata": {
  "kernelspec": {
   "display_name": ".venv",
   "language": "python",
   "name": "python3"
  },
  "language_info": {
   "codemirror_mode": {
    "name": "ipython",
    "version": 3
   },
   "file_extension": ".py",
   "mimetype": "text/x-python",
   "name": "python",
   "nbconvert_exporter": "python",
   "pygments_lexer": "ipython3",
   "version": "3.10.9"
  }
 },
 "nbformat": 4,
 "nbformat_minor": 5
}
