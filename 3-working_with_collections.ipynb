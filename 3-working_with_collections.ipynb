{
 "cells": [
  {
   "cell_type": "markdown",
   "id": "82073fd2",
   "metadata": {},
   "source": [
    "# Working with Lists, Dictionaries, and Other Collections\n",
    "    \n",
    "In this section, we'll explore Python's built-in data structures such as lists, dictionaries, tuples, and sets. Understanding these collections will enable you to store, organize, and manage data in your Python programs efficiently.\n"
   ]
  },
  {
   "cell_type": "markdown",
   "id": "0cce0cda",
   "metadata": {},
   "source": [
    "## Lists\n",
    "\n",
    "A list in Python is an ordered collection of items. Lists are mutable, meaning you can modify their content.\n"
   ]
  },
  {
   "cell_type": "code",
   "execution_count": 1,
   "id": "56907658",
   "metadata": {},
   "outputs": [
    {
     "name": "stdout",
     "output_type": "stream",
     "text": [
      "[1, 2, 3, 4, 5]\n",
      "[1, 2, 3, 4, 5, 6]\n",
      "1\n",
      "6\n",
      "[3, 4]\n"
     ]
    }
   ],
   "source": [
    "# Creating a list\n",
    "my_list = [1, 2, 3, 4, 5]\n",
    "print(my_list)\n",
    "\n",
    "# Adding an item to a list\n",
    "my_list.append(6)\n",
    "print(my_list)\n",
    "\n",
    "# Accessing list items\n",
    "print(my_list[0])  # First item\n",
    "print(my_list[-1]) # Last item\n",
    "\n",
    "# Slicing lists\n",
    "print(my_list[2:4])\n"
   ]
  },
  {
   "cell_type": "markdown",
   "id": "fd512e75",
   "metadata": {},
   "source": [
    "## Dictionaries\n",
    "\n",
    "Dictionaries in Python are unordered collections of items. Each item in a dictionary is a key-value pair.\n"
   ]
  },
  {
   "cell_type": "code",
   "execution_count": 2,
   "id": "70375487",
   "metadata": {},
   "outputs": [
    {
     "name": "stdout",
     "output_type": "stream",
     "text": [
      "{'name': 'Alice', 'age': 25}\n",
      "Alice\n",
      "{'name': 'Alice', 'age': 25, 'email': 'alice@example.com'}\n"
     ]
    }
   ],
   "source": [
    "# Creating a dictionary\n",
    "my_dict = {'name': 'Alice', 'age': 25}\n",
    "print(my_dict)\n",
    "\n",
    "# Accessing dictionary values\n",
    "print(my_dict['name'])\n",
    "\n",
    "# Adding a new key-value pair\n",
    "my_dict['email'] = 'alice@example.com'\n",
    "print(my_dict)\n"
   ]
  },
  {
   "cell_type": "markdown",
   "id": "881a377d",
   "metadata": {},
   "source": [
    "## Tuples\n",
    "\n",
    "A tuple in Python is similar to a list, but it is immutable. Once a tuple is created, you cannot change its contents.\n"
   ]
  },
  {
   "cell_type": "code",
   "execution_count": 3,
   "id": "c58928dc",
   "metadata": {},
   "outputs": [
    {
     "name": "stdout",
     "output_type": "stream",
     "text": [
      "(1, 2, 3)\n",
      "1\n"
     ]
    }
   ],
   "source": [
    "# Creating a tuple\n",
    "my_tuple = (1, 2, 3)\n",
    "print(my_tuple)\n",
    "\n",
    "# Accessing tuple items\n",
    "print(my_tuple[0])\n",
    "\n",
    "# Tuples are immutable\n",
    "# my_tuple[1] = 4  # This would raise an error\n"
   ]
  },
  {
   "cell_type": "markdown",
   "id": "e5e4609c",
   "metadata": {},
   "source": [
    "## Sets\n",
    "\n",
    "A set is an unordered collection of unique items. Sets are mutable and great for removing duplicates and membership testing.\n"
   ]
  },
  {
   "cell_type": "code",
   "execution_count": 4,
   "id": "d5a661b3",
   "metadata": {},
   "outputs": [
    {
     "name": "stdout",
     "output_type": "stream",
     "text": [
      "{1, 2, 3, 4, 5}\n",
      "{1, 2, 3, 4, 5, 6}\n",
      "{1, 2, 3, 4, 5, 6, 7}\n",
      "{4, 5, 6}\n"
     ]
    }
   ],
   "source": [
    "# Creating a set\n",
    "my_set = {1, 2, 3, 4, 5, 5}\n",
    "print(my_set)  # Duplicates will be removed\n",
    "\n",
    "# Adding an item to a set\n",
    "my_set.add(6)\n",
    "print(my_set)\n",
    "\n",
    "# Set operations\n",
    "another_set = {4, 5, 6, 7}\n",
    "print(my_set.union(another_set))  # Union of two sets\n",
    "print(my_set.intersection(another_set))  # Intersection of two sets\n"
   ]
  },
  {
   "cell_type": "markdown",
   "id": "1e0ad09e",
   "metadata": {},
   "source": [
    "## Comparison and Contrast\n",
    "\n",
    "- **Lists** are ordered, mutable collections.\n",
    "- **Dictionaries** store unordered key-value pairs.\n",
    "- **Tuples** are ordered, immutable collections.\n",
    "- **Sets** are unordered collections of unique items.\n",
    "\n",
    "Understanding the properties and operations of each type of collection will help you choose the right one for your specific programming needs.\n"
   ]
  }
 ],
 "metadata": {
  "kernelspec": {
   "display_name": ".venv",
   "language": "python",
   "name": "python3"
  },
  "language_info": {
   "codemirror_mode": {
    "name": "ipython",
    "version": 3
   },
   "file_extension": ".py",
   "mimetype": "text/x-python",
   "name": "python",
   "nbconvert_exporter": "python",
   "pygments_lexer": "ipython3",
   "version": "3.10.9"
  }
 },
 "nbformat": 4,
 "nbformat_minor": 5
}
